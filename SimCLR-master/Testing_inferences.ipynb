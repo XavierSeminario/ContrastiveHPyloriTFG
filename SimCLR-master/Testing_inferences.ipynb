{
 "cells": [
  {
   "cell_type": "code",
   "execution_count": 1,
   "metadata": {},
   "outputs": [],
   "source": [
    "import numpy as np\n",
    "import os\n",
    "import pandas as pd\n",
    "from sklearn.metrics import confusion_matrix, ConfusionMatrixDisplay\n",
    "from sklearn.metrics import roc_curve, roc_auc_score\n",
    "import matplotlib.pyplot as plt\n",
    "from sklearn.model_selection import StratifiedGroupKFold\n"
   ]
  },
  {
   "cell_type": "code",
   "execution_count": 2,
   "metadata": {},
   "outputs": [],
   "source": [
    "path_to_npz_files = 'C:/Users/xavis\\OneDrive/Escritorio/Uni/TFG/ContrastiveHPyloriTFG/SimCLR-master/Inferences'  # Adjust this path as needed\n",
    "path= \"C:/Users/xavis/Downloads/PatientDiagnosis.csv\"\n",
    "Real_Diagnosis=pd.read_csv(path)"
   ]
  },
  {
   "cell_type": "code",
   "execution_count": 3,
   "metadata": {},
   "outputs": [
    {
     "name": "stdout",
     "output_type": "stream",
     "text": [
      "       Pat_ID  WSI_ID  Window_ID      i      j    h    w  Presence  Cropped  \\\n",
      "0     B22-129       0        659   7477  11978  256  256        -1        0   \n",
      "1      B22-68       0        131   6597  12009  256  256        -1        0   \n",
      "2      B22-68       0        141   5100  10737  256  256        -1        0   \n",
      "3      B22-68       0        290   5015  14908  256  256        -1        0   \n",
      "4      B22-68       0        298  11626  13928  256  256        -1        0   \n",
      "...       ...     ...        ...    ...    ...  ...  ...       ...      ...   \n",
      "2630  B22-150       1        517   5476   3501  256  256         0        0   \n",
      "2631  B22-150       1        297  10571  13216  256  256         0        0   \n",
      "2632  B22-150       1        102  11599  10384  256  256         0        0   \n",
      "2633  B22-150       1        341  15036   8492  256  256         0        0   \n",
      "2634  B22-150       1        184  16691   8893  256  256         0        0   \n",
      "\n",
      "      Deleted  \n",
      "0           0  \n",
      "1           0  \n",
      "2           0  \n",
      "3           0  \n",
      "4           0  \n",
      "...       ...  \n",
      "2630        0  \n",
      "2631        0  \n",
      "2632        0  \n",
      "2633        0  \n",
      "2634        0  \n",
      "\n",
      "[2635 rows x 10 columns]\n",
      "      Unnamed: 0.1  Unnamed: 0   Pat_ID  WSI_ID  Window_ID      i      j    h  \\\n",
      "0                0           0  B22-124       0   902_Aug1  24676  22200  256   \n",
      "1                1           1  B22-124       0   902_Aug2  24679  22170  256   \n",
      "2                2           2  B22-124       0   902_Aug3  24680  22215  256   \n",
      "3                3           3  B22-124       0   902_Aug4  24686  22156  256   \n",
      "4                4           4  B22-124       0   902_Aug5  24685  22231  256   \n",
      "...            ...         ...      ...     ...        ...    ...    ...  ...   \n",
      "1299          1299        1307   B22-84       0  1982_Aug4  20180  26607  256   \n",
      "1300          1300        1308   B22-84       0  1982_Aug5  20221  26642  256   \n",
      "1301          1301        1309   B22-84       0  1982_Aug6  20165  26613  256   \n",
      "1302          1302        1310   B22-84       0  1982_Aug7  20225  26658  256   \n",
      "1303          1303        1311   B22-84       0  1982_Aug8  20150  26619  256   \n",
      "\n",
      "        w  Presence  \n",
      "0     256         1  \n",
      "1     256         1  \n",
      "2     256         1  \n",
      "3     256         1  \n",
      "4     256         1  \n",
      "...   ...       ...  \n",
      "1299  256         1  \n",
      "1300  256         1  \n",
      "1301  256         1  \n",
      "1302  256         1  \n",
      "1303  256         1  \n",
      "\n",
      "[1304 rows x 10 columns]\n"
     ]
    },
    {
     "name": "stderr",
     "output_type": "stream",
     "text": [
      "C:\\Users\\xavis\\AppData\\Local\\Temp\\ipykernel_21068\\2621329094.py:5: UserWarning: Boolean Series key will be reindexed to match DataFrame index.\n",
      "  train_dataset = train_dataset[train_dataset['Deleted']==0][train_dataset['Cropped']==0][train_dataset['Presence']!=0]\n",
      "C:\\Users\\xavis\\AppData\\Local\\Temp\\ipykernel_21068\\2621329094.py:5: UserWarning: Boolean Series key will be reindexed to match DataFrame index.\n",
      "  train_dataset = train_dataset[train_dataset['Deleted']==0][train_dataset['Cropped']==0][train_dataset['Presence']!=0]\n"
     ]
    }
   ],
   "source": [
    "train_dataset = pd.read_excel('C:/Users/xavis/OneDrive/Escritorio/Uni/TFG/ContrastiveHPyloriTFG/HPyloriData/HP_WSI-CoordAnnotatedWindows.xlsx')\n",
    "train_dataset_aug = pd.read_excel('C:/Users/xavis/OneDrive/Escritorio/Uni/TFG/ContrastiveHPyloriTFG/HPyloriData/HP_WSI-CoordAugAnnotatedWindows.xlsx')\n",
    "print(train_dataset)\n",
    "print(train_dataset_aug)\n",
    "train_dataset = train_dataset[train_dataset['Deleted']==0][train_dataset['Cropped']==0][train_dataset['Presence']!=0]\n",
    "aug=True\n",
    "if aug:\n",
    "    train_dataset = train_dataset.drop(columns=['Deleted', 'Cropped'])\n",
    "    train_dataset_aug = train_dataset_aug.drop(columns=['Unnamed: 0.1','Unnamed: 0'])\n",
    "\n",
    "    train_dataset = pd.concat([train_dataset, train_dataset_aug], ignore_index=True)\n",
    "\n",
    "    def add_leading_zeros(value):\n",
    "\n",
    "        try:\n",
    "            num_part, text_part = value.split('_')\n",
    "            num_part = num_part.zfill(5)  # Pad the numeric part with leading zeros up to 5 digits\n",
    "            return f\"{num_part}_{text_part}\"\n",
    "        except:\n",
    "            return str(value).zfill(5) \n",
    "    train_dataset['Window_ID'] = train_dataset['Window_ID'].apply(add_leading_zeros)\n",
    "    \n",
    "train_dataset = train_dataset.reset_index()\n",
    "# gss = GroupShuffleSplit(n_splits=1, test_size=0.2,random_state=202)\n",
    "strkf = StratifiedGroupKFold(n_splits=15)\n",
    "splits = strkf.split(X=train_dataset, y=train_dataset['Presence'], groups=train_dataset['Pat_ID'])"
   ]
  },
  {
   "cell_type": "code",
   "execution_count": 18,
   "metadata": {},
   "outputs": [
    {
     "name": "stdout",
     "output_type": "stream",
     "text": [
      "123\n"
     ]
    }
   ],
   "source": [
    "print(train_dataset['Pat_ID'].nunique())"
   ]
  },
  {
   "cell_type": "code",
   "execution_count": null,
   "metadata": {},
   "outputs": [],
   "source": []
  },
  {
   "cell_type": "code",
   "execution_count": 4,
   "metadata": {},
   "outputs": [],
   "source": [
    "llista_train=[]\n",
    "llista_test=[]"
   ]
  },
  {
   "cell_type": "code",
   "execution_count": 5,
   "metadata": {},
   "outputs": [],
   "source": [
    "for train_idx, test_idx in splits:\n",
    "    llista_train.append(train_dataset.iloc[train_idx]['Pat_ID'].unique())\n",
    "    llista_test.append(train_dataset.iloc[test_idx]['Pat_ID'].unique())"
   ]
  },
  {
   "cell_type": "code",
   "execution_count": 6,
   "metadata": {},
   "outputs": [
    {
     "name": "stdout",
     "output_type": "stream",
     "text": [
      "(118,)\n",
      "(115,)\n",
      "(115,)\n",
      "(114,)\n",
      "(122,)\n",
      "(114,)\n",
      "(120,)\n",
      "(112,)\n",
      "(118,)\n",
      "(114,)\n",
      "(114,)\n",
      "(112,)\n",
      "(112,)\n",
      "(111,)\n",
      "(111,)\n"
     ]
    }
   ],
   "source": [
    "for element in llista_train:\n",
    "    print(element.shape)"
   ]
  },
  {
   "cell_type": "code",
   "execution_count": 7,
   "metadata": {},
   "outputs": [
    {
     "name": "stdout",
     "output_type": "stream",
     "text": [
      "(5,)\n",
      "(8,)\n",
      "(8,)\n",
      "(9,)\n",
      "(1,)\n",
      "(9,)\n",
      "(3,)\n",
      "(11,)\n",
      "(5,)\n",
      "(9,)\n",
      "(9,)\n",
      "(11,)\n",
      "(11,)\n",
      "(12,)\n",
      "(12,)\n"
     ]
    }
   ],
   "source": [
    "for element in llista_test:\n",
    "    print(element.shape)"
   ]
  },
  {
   "cell_type": "code",
   "execution_count": 8,
   "metadata": {},
   "outputs": [],
   "source": [
    "Real_Diagnosis['DENSITAT']=Real_Diagnosis['DENSITAT']!='NEGATIVA'\n",
    "Real_Diagnosis['DENSITAT']=Real_Diagnosis['DENSITAT'].astype('int64')"
   ]
  },
  {
   "cell_type": "code",
   "execution_count": 9,
   "metadata": {},
   "outputs": [],
   "source": [
    "llista=os.listdir(path_to_npz_files)"
   ]
  },
  {
   "cell_type": "code",
   "execution_count": 10,
   "metadata": {},
   "outputs": [
    {
     "data": {
      "text/plain": [
       "['Inference_BCE_1',\n",
       " 'Inference_BCE_10',\n",
       " 'Inference_BCE_11',\n",
       " 'Inference_BCE_12',\n",
       " 'Inference_BCE_13',\n",
       " 'Inference_BCE_14',\n",
       " 'Inference_BCE_15',\n",
       " 'Inference_BCE_2',\n",
       " 'Inference_BCE_3',\n",
       " 'Inference_BCE_4',\n",
       " 'Inference_BCE_5',\n",
       " 'Inference_BCE_6',\n",
       " 'Inference_BCE_7',\n",
       " 'Inference_BCE_8',\n",
       " 'Inference_BCE_9',\n",
       " 'Inference_Triplet_1',\n",
       " 'Inference_Triplet_10',\n",
       " 'Inference_Triplet_11',\n",
       " 'Inference_Triplet_12',\n",
       " 'Inference_Triplet_13',\n",
       " 'Inference_Triplet_14',\n",
       " 'Inference_Triplet_15',\n",
       " 'Inference_Triplet_2',\n",
       " 'Inference_Triplet_3',\n",
       " 'Inference_Triplet_4',\n",
       " 'Inference_Triplet_5',\n",
       " 'Inference_Triplet_6',\n",
       " 'Inference_Triplet_7',\n",
       " 'Inference_Triplet_8',\n",
       " 'Inference_Triplet_9',\n",
       " 'Inference_Xent_1',\n",
       " 'Inference_Xent_10',\n",
       " 'Inference_Xent_11',\n",
       " 'Inference_Xent_12',\n",
       " 'Inference_Xent_13',\n",
       " 'Inference_Xent_14',\n",
       " 'Inference_Xent_15',\n",
       " 'Inference_Xent_2',\n",
       " 'Inference_Xent_3',\n",
       " 'Inference_Xent_4',\n",
       " 'Inference_Xent_5',\n",
       " 'Inference_Xent_6',\n",
       " 'Inference_Xent_7',\n",
       " 'Inference_Xent_8',\n",
       " 'Inference_Xent_9']"
      ]
     },
     "execution_count": 10,
     "metadata": {},
     "output_type": "execute_result"
    }
   ],
   "source": [
    "llista"
   ]
  },
  {
   "cell_type": "code",
   "execution_count": 11,
   "metadata": {},
   "outputs": [],
   "source": [
    "llista=['Inference_Xent_1',\n",
    " 'Inference_Xent_10',\n",
    " 'Inference_Xent_11',\n",
    " 'Inference_Xent_12',\n",
    " 'Inference_Xent_13',\n",
    " 'Inference_Xent_14',\n",
    " 'Inference_Xent_15',\n",
    " 'Inference_Xent_2',\n",
    " 'Inference_Xent_3',\n",
    " 'Inference_Xent_4',\n",
    " 'Inference_Xent_5',\n",
    " 'Inference_Xent_6',\n",
    " 'Inference_Xent_7',\n",
    " 'Inference_Xent_8',\n",
    " 'Inference_Xent_9']"
   ]
  },
  {
   "cell_type": "code",
   "execution_count": 15,
   "metadata": {},
   "outputs": [],
   "source": [
    "llista=['Inference_Triplet_1',\n",
    " 'Inference_Triplet_10',\n",
    " 'Inference_Triplet_11',\n",
    " 'Inference_Triplet_12',\n",
    " 'Inference_Triplet_13',\n",
    " 'Inference_Triplet_14',\n",
    " 'Inference_Triplet_15',\n",
    " 'Inference_Triplet_2',\n",
    " 'Inference_Triplet_3',\n",
    " 'Inference_Triplet_4',\n",
    " 'Inference_Triplet_5',\n",
    " 'Inference_Triplet_6',\n",
    " 'Inference_Triplet_7',\n",
    " 'Inference_Triplet_8',\n",
    " 'Inference_Triplet_9']"
   ]
  },
  {
   "cell_type": "code",
   "execution_count": 19,
   "metadata": {},
   "outputs": [],
   "source": [
    "llista=['Inference_BCE_1',\n",
    " 'Inference_BCE_10',\n",
    " 'Inference_BCE_11',\n",
    " 'Inference_BCE_12',\n",
    " 'Inference_BCE_13',\n",
    " 'Inference_BCE_14',\n",
    " 'Inference_BCE_15',\n",
    " 'Inference_BCE_2',\n",
    " 'Inference_BCE_3',\n",
    " 'Inference_BCE_4',\n",
    " 'Inference_BCE_5',\n",
    " 'Inference_BCE_6',\n",
    " 'Inference_BCE_7',\n",
    " 'Inference_BCE_8',\n",
    " 'Inference_BCE_9']"
   ]
  },
  {
   "cell_type": "code",
   "execution_count": 21,
   "metadata": {},
   "outputs": [
    {
     "data": {
      "image/png": "[encoded data removed]",
      "text/plain": [
       "<Figure size 640x480 with 1 Axes>"
      ]
     },
     "metadata": {},
     "output_type": "display_data"
    },
    {
     "name": "stdout",
     "output_type": "stream",
     "text": [
      "Mean AUC: 0.9771121070819109\n",
      "Mean Optimal Threshold: 0.18096099758870685\n"
     ]
    }
   ],
   "source": [
    "# Example patient ID\n",
    "suma=0\n",
    "preds = []\n",
    "real = []\n",
    "misclass=[]\n",
    "total=0\n",
    "minim =0\n",
    "maxim = 200000\n",
    "mean_umbral = 0\n",
    "mean_auc =0\n",
    "mean_fpr = np.linspace(0, 1, 100)\n",
    "tpr_list = []\n",
    "index=0\n",
    "llista_thrs=[]\n",
    "for filename in llista:\n",
    "    preds = []\n",
    "    real = []\n",
    "    os.chdir(path_to_npz_files)\n",
    "\n",
    "    # Load the npz file\n",
    "    npz_filepath = os.path.join(path_to_npz_files, filename)\n",
    "    for file in os.listdir(npz_filepath):\n",
    "\n",
    "        data = np.load(os.path.join(npz_filepath, file))\n",
    "        probabilities = data['probabilities']\n",
    "        probabilities = probabilities\n",
    "        codi = file.split('_')[0]\n",
    "        if codi in llista_train[index]:\n",
    "                preds.append((np.mean(probabilities>0.5)))\n",
    "                real.append((Real_Diagnosis[Real_Diagnosis['CODI']==codi]['DENSITAT'].values[0]))\n",
    "                # print(real)\n",
    "    # print(preds)\n",
    "    fpr, tpr, thresholds = roc_curve(real, preds)\n",
    "\n",
    "    auc_score = roc_auc_score(real, preds)\n",
    "    tpr_list.append(np.interp(mean_fpr, fpr, tpr))\n",
    "    tpr_list[-1][0] = 0.0\n",
    "    # 5. Determinar el umbral óptimo\n",
    "\n",
    "    optimal_idx = (tpr - fpr).argmax()\n",
    "    optimal_threshold = thresholds[optimal_idx]\n",
    "    mean_umbral+=optimal_threshold/15\n",
    "    llista_thrs.append(optimal_threshold)\n",
    "    mean_auc+=auc_score/15\n",
    "    index+=1\n",
    "mean_tpr = np.mean(tpr_list, axis=0)\n",
    "mean_tpr[-1] = 1.0\n",
    "\n",
    "plt.figure()\n",
    "plt.plot(mean_fpr, mean_tpr, color='b', lw=2, label=f'Mean ROC (AUC = {mean_auc:.3f})')\n",
    "plt.plot([0, 1], [0, 1], color='gray', linestyle='--')\n",
    "plt.scatter(mean_fpr[int(mean_umbral * 100)], mean_tpr[int(mean_umbral * 100)], color='red', marker='o', label=f'Millor Threshold = {mean_umbral:.3f}')\n",
    "plt.xlabel('False Positive Rate')\n",
    "plt.ylabel('True Positive Rate')\n",
    "plt.title('Corva ROC Mitjana BCE (Train)')\n",
    "plt.legend(loc=\"lower right\")\n",
    "plt.show()\n",
    "\n",
    "print(f\"Mean AUC: {mean_auc}\")\n",
    "print(f\"Mean Optimal Threshold: {mean_umbral}\")"
   ]
  },
  {
   "cell_type": "code",
   "execution_count": 22,
   "metadata": {},
   "outputs": [
    {
     "data": {
      "text/plain": [
       "<sklearn.metrics._plot.confusion_matrix.ConfusionMatrixDisplay at 0x2ee764ff110>"
      ]
     },
     "execution_count": 22,
     "metadata": {},
     "output_type": "execute_result"
    },
    {
     "data": {
      "image/png": "[encoded data removed]",
      "text/plain": [
       "<Figure size 640x480 with 2 Axes>"
      ]
     },
     "metadata": {},
     "output_type": "display_data"
    }
   ],
   "source": [
    "\n",
    "# Example patient ID\n",
    "\n",
    "suma=0\n",
    "preds = []\n",
    "real = []\n",
    "misclass=[]\n",
    "total=0\n",
    "minim =0\n",
    "maxim = 200000\n",
    "mean_fpr = np.linspace(0, 1, 100)\n",
    "tpr_list = []\n",
    "persona =[]\n",
    "# mean_umbral = 0\n",
    "# mean_preds=np.zeros(271)\n",
    "index=0\n",
    "for filename in llista:\n",
    "#     preds = []\n",
    "#     real = []\n",
    "        os.chdir(path_to_npz_files)\n",
    "        # Load the npz file\n",
    "        npz_filepath = os.path.join(path_to_npz_files, filename)\n",
    "        for file in os.listdir(npz_filepath):\n",
    "        #         print(file)\n",
    "                data = np.load(os.path.join(npz_filepath, file))\n",
    "        #         print(data['probabilities'])\n",
    "                # Extract the probabilities\n",
    "                probabilities = data['probabilities']\n",
    "\n",
    "                probabilities = probabilities\n",
    "                codi = file.split('_')[0]\n",
    "                if codi in llista_test[index]:\n",
    "                        # print(codi)\n",
    "                        persona.append(codi)\n",
    "                        preds.append((np.mean(probabilities>0.5)>=llista_thrs[index]))\n",
    "                        real.append((Real_Diagnosis[Real_Diagnosis['CODI']==codi]['DENSITAT'].values[0]))\n",
    "        index+=1\n",
    "\n",
    "cm = confusion_matrix(real, preds)\n",
    "disp = ConfusionMatrixDisplay(confusion_matrix=cm)\n",
    "disp.plot()\n"
   ]
  },
  {
   "cell_type": "code",
   "execution_count": 324,
   "metadata": {},
   "outputs": [
    {
     "data": {
      "text/plain": [
       "array([False, False, False, False, False, False, False, False, False,\n",
       "       False,  True, False, False, False, False, False, False, False,\n",
       "       False,  True, False, False,  True, False, False, False, False,\n",
       "       False, False, False,  True, False,  True,  True, False, False,\n",
       "       False, False, False, False, False,  True, False, False, False,\n",
       "       False, False, False, False, False, False,  True, False, False,\n",
       "       False, False, False, False, False, False, False, False, False,\n",
       "       False, False, False, False, False, False, False,  True, False,\n",
       "       False, False, False, False,  True, False, False, False, False,\n",
       "       False, False, False, False, False, False, False, False, False,\n",
       "       False, False, False, False, False, False, False, False, False,\n",
       "       False, False, False, False, False, False, False, False, False,\n",
       "       False, False, False,  True,  True,  True, False, False, False,\n",
       "       False, False, False, False, False, False])"
      ]
     },
     "execution_count": 324,
     "metadata": {},
     "output_type": "execute_result"
    }
   ],
   "source": [
    "(np.array(real)-np.array(preds)).astype('bool')"
   ]
  },
  {
   "cell_type": "code",
   "execution_count": 320,
   "metadata": {},
   "outputs": [
    {
     "data": {
      "text/plain": [
       "[True,\n",
       " True,\n",
       " False,\n",
       " True,\n",
       " True,\n",
       " True,\n",
       " True,\n",
       " True,\n",
       " False,\n",
       " False,\n",
       " True,\n",
       " False,\n",
       " False,\n",
       " True,\n",
       " True,\n",
       " False,\n",
       " False,\n",
       " False,\n",
       " False,\n",
       " False,\n",
       " True,\n",
       " True,\n",
       " True,\n",
       " False,\n",
       " False,\n",
       " False,\n",
       " False,\n",
       " True,\n",
       " True,\n",
       " False,\n",
       " False,\n",
       " True,\n",
       " False,\n",
       " True,\n",
       " True,\n",
       " False,\n",
       " True,\n",
       " False,\n",
       " True,\n",
       " True,\n",
       " True,\n",
       " False,\n",
       " True,\n",
       " False,\n",
       " False,\n",
       " False,\n",
       " False,\n",
       " True,\n",
       " True,\n",
       " True,\n",
       " True,\n",
       " False,\n",
       " True,\n",
       " True,\n",
       " True,\n",
       " True,\n",
       " True,\n",
       " False,\n",
       " True,\n",
       " False,\n",
       " True,\n",
       " False,\n",
       " False,\n",
       " True,\n",
       " True,\n",
       " True,\n",
       " True,\n",
       " True,\n",
       " False,\n",
       " True,\n",
       " False,\n",
       " True,\n",
       " True,\n",
       " True,\n",
       " True,\n",
       " False,\n",
       " True,\n",
       " True,\n",
       " False,\n",
       " True,\n",
       " True,\n",
       " True,\n",
       " False,\n",
       " True,\n",
       " True,\n",
       " True,\n",
       " True,\n",
       " True,\n",
       " True,\n",
       " True,\n",
       " False,\n",
       " True,\n",
       " True,\n",
       " False,\n",
       " False,\n",
       " True,\n",
       " True,\n",
       " False,\n",
       " False,\n",
       " True,\n",
       " False,\n",
       " True,\n",
       " True,\n",
       " True,\n",
       " False,\n",
       " False,\n",
       " False,\n",
       " False,\n",
       " True,\n",
       " True,\n",
       " False,\n",
       " False,\n",
       " False,\n",
       " True,\n",
       " True,\n",
       " False,\n",
       " True,\n",
       " False,\n",
       " True,\n",
       " True,\n",
       " True,\n",
       " True,\n",
       " True]"
      ]
     },
     "execution_count": 320,
     "metadata": {},
     "output_type": "execute_result"
    }
   ],
   "source": [
    "preds"
   ]
  },
  {
   "cell_type": "code",
   "execution_count": 325,
   "metadata": {},
   "outputs": [
    {
     "data": {
      "text/plain": [
       "array(['B22-117', 'B22-119', 'B22-127', 'B22-138', 'B22-142', 'B22-149',\n",
       "       'B22-151', 'B22-174', 'B22-256', 'B22-270', 'B22-35', 'B22-68',\n",
       "       'B22-93'], dtype='<U7')"
      ]
     },
     "execution_count": 325,
     "metadata": {},
     "output_type": "execute_result"
    }
   ],
   "source": [
    "np.unique(np.array(persona)[(np.array(real)-np.array(preds)).astype('bool')])"
   ]
  },
  {
   "cell_type": "code",
   "execution_count": 23,
   "metadata": {},
   "outputs": [
    {
     "data": {
      "text/plain": [
       "<sklearn.metrics._plot.confusion_matrix.ConfusionMatrixDisplay at 0x2ee79db2010>"
      ]
     },
     "execution_count": 23,
     "metadata": {},
     "output_type": "execute_result"
    },
    {
     "data": {
      "image/png": "[encoded data removed]",
      "text/plain": [
       "<Figure size 640x480 with 2 Axes>"
      ]
     },
     "metadata": {},
     "output_type": "display_data"
    }
   ],
   "source": [
    "suma=0\n",
    "preds = []\n",
    "real = []\n",
    "misclass=[]\n",
    "total=0\n",
    "minim =0\n",
    "maxim = 200000\n",
    "# mean_umbral = 0\n",
    "mean_preds=np.zeros(271-123)\n",
    "index=0\n",
    "for filename in llista:\n",
    "        preds = []\n",
    "        real = []\n",
    "        persona=[]\n",
    "\n",
    "        os.chdir(path_to_npz_files)\n",
    "        # Load the npz file\n",
    "        npz_filepath = os.path.join(path_to_npz_files, filename)\n",
    "        for file in os.listdir(npz_filepath):\n",
    "        #         print(file)\n",
    "                data = np.load(os.path.join(npz_filepath, file))\n",
    "        #         print(data['probabilities'])\n",
    "                # Extract the probabilities\n",
    "                probabilities = data['probabilities']\n",
    "\n",
    "                probabilities = probabilities\n",
    "                codi = file.split('_')[0]\n",
    "                if (codi not in llista_test[index]) and (codi not in llista_train[index]):\n",
    "                        persona.append(codi)\n",
    "                        preds.append((np.mean(probabilities>0.5)>np.mean(llista_thrs)))\n",
    "                        real.append((Real_Diagnosis[Real_Diagnosis['CODI']==codi]['DENSITAT'].values[0]))\n",
    "        index+=1\n",
    "        mean_preds=mean_preds+preds\n",
    "\n",
    "\n",
    "cm = confusion_matrix(real, ((mean_preds/15)>0.1).astype('int64'))\n",
    "disp = ConfusionMatrixDisplay(confusion_matrix=cm)\n",
    "disp.plot()"
   ]
  },
  {
   "cell_type": "code",
   "execution_count": null,
   "metadata": {},
   "outputs": [],
   "source": [
    "persona=persona.unique"
   ]
  },
  {
   "cell_type": "code",
   "execution_count": 333,
   "metadata": {},
   "outputs": [
    {
     "data": {
      "text/plain": [
       "array(['B22-01', 'B22-105', 'B22-139', 'B22-152', 'B22-206', 'B22-224',\n",
       "       'B22-269', 'B22-271', 'B22-286', 'B22-295', 'B22-44', 'B22-49',\n",
       "       'B22-58', 'B22-81', 'B22-82', 'B22-96'], dtype='<U7')"
      ]
     },
     "execution_count": 333,
     "metadata": {},
     "output_type": "execute_result"
    }
   ],
   "source": [
    "np.unique(np.array(persona)[(np.array(real)-np.array(((mean_preds/15)>0.1).astype('int64'))).astype('bool')])\n"
   ]
  },
  {
   "cell_type": "code",
   "execution_count": 123,
   "metadata": {},
   "outputs": [
    {
     "name": "stdout",
     "output_type": "stream",
     "text": [
      "AUC: 0.9366830065359477\n",
      "Umbral óptimo: 0.2322486937046051\n",
      "AUC: 0.9497004357298475\n",
      "Umbral óptimo: 0.16761645674705505\n",
      "AUC: 0.9354302832244008\n",
      "Umbral óptimo: 0.21801583468914032\n",
      "AUC: 0.9508986928104576\n",
      "Umbral óptimo: 0.15734362602233887\n",
      "AUC: 0.938425925925926\n",
      "Umbral óptimo: 0.21414877474308014\n",
      "AUC: 0.9433278867102397\n",
      "Umbral óptimo: 0.20594830811023712\n",
      "AUC: 0.9156590413943355\n",
      "Umbral óptimo: 0.24211063981056213\n",
      "AUC: 0.9523692810457516\n",
      "Umbral óptimo: 0.1755756139755249\n",
      "AUC: 0.942020697167756\n",
      "Umbral óptimo: 0.18699869513511658\n",
      "AUC: 0.9452886710239652\n",
      "Umbral óptimo: 0.16762444376945496\n",
      "AUC: 0.9470860566448802\n",
      "Umbral óptimo: 0.15885040163993835\n",
      "AUC: 0.9522058823529412\n",
      "Umbral óptimo: 0.15828010439872742\n",
      "AUC: 0.942946623093682\n",
      "Umbral óptimo: 0.18225941061973572\n",
      "AUC: 0.9447440087145971\n",
      "Umbral óptimo: 0.1605544239282608\n",
      "AUC: 0.9543845315904139\n",
      "Umbral óptimo: 0.16591177880764008\n"
     ]
    }
   ],
   "source": [
    "\n",
    "# Example patient ID\n",
    "\n",
    "suma=0\n",
    "preds = []\n",
    "real = []\n",
    "misclass=[]\n",
    "total=0\n",
    "minim =0\n",
    "maxim = 200000\n",
    "mean_umbral = 0\n",
    "for filename in llista:\n",
    "    preds = []\n",
    "    real = []\n",
    "    os.chdir(path_to_npz_files)\n",
    "    # Load the npz file\n",
    "    npz_filepath = os.path.join(path_to_npz_files, filename)\n",
    "    for file in os.listdir(npz_filepath):\n",
    "#         print(file)\n",
    "        data = np.load(os.path.join(npz_filepath, file))\n",
    "#         print(data['probabilities'])\n",
    "        # Extract the probabilities\n",
    "        probabilities = data['probabilities']\n",
    "#         total+=len(probabilities)\n",
    "#         if len(probabilities)>minim:\n",
    "#             minim = len(probabilities)\n",
    "#         if len(probabilities)<maxim:\n",
    "#             maxim = len(probabilities)\n",
    "\n",
    "        probabilities = probabilities\n",
    "        codi = file.split('_')[0]\n",
    "#         print(codi)\n",
    "        # Print the probabilitiesC:\\Users\\xavis\\OneDrive\\Escritorio\\Uni\\TFG\\ContrastiveHPyloriTFG\\SimCLR-master\\eval2.py\n",
    "    #     print(f'Probabilities for patient {filename[:7]}:')\n",
    "    #     print(Real_Diagnosis[Real_Diagnosis['CODI']==codi]['DENSITAT'].values[0])\n",
    "    #     print(np.mean(probabilities>0.8)>0.08)\n",
    "    #     print(np.mean(probabilities))\n",
    "#         print(probabilities)\n",
    "        preds.append((np.mean(probabilities)))\n",
    "        real.append((Real_Diagnosis[Real_Diagnosis['CODI']==codi]['DENSITAT'].values[0]))\n",
    "    # print(real)\n",
    "    # print(preds)\n",
    "    fpr, tpr, thresholds = roc_curve(real, preds)\n",
    "    # print(fpr)\n",
    "    # print(tpr)\n",
    "    auc_score = roc_auc_score(real, preds)\n",
    "\n",
    "    # 5. Determinar el umbral óptimo\n",
    "    # Aquí, buscamos el umbral que maximiza la diferencia (tpr - fpr), que equivale a maximizar (sensibilidad + especificidad - 1)\n",
    "    optimal_idx = (tpr - fpr).argmax()\n",
    "    optimal_threshold = thresholds[optimal_idx]\n",
    "    mean_umbral+=optimal_threshold/15\n",
    "    # Mostrar resultados\n",
    "    print(f'AUC: {auc_score}')\n",
    "    print(f'Umbral óptimo: {optimal_threshold}')\n",
    "#         print(real)\n",
    "#         print(preds)\n",
    "#     cm = confusion_matrix(real, preds)\n",
    "#     disp = ConfusionMatrixDisplay(confusion_matrix=cm)\n",
    "#     disp.plot()\n"
   ]
  },
  {
   "cell_type": "code",
   "execution_count": 124,
   "metadata": {},
   "outputs": [
    {
     "data": {
      "text/plain": [
       "<sklearn.metrics._plot.confusion_matrix.ConfusionMatrixDisplay at 0x2db70bab5d0>"
      ]
     },
     "execution_count": 124,
     "metadata": {},
     "output_type": "execute_result"
    },
    {
     "data": {
      "image/png": "[encoded data removed]",
      "text/plain": [
       "<Figure size 640x480 with 2 Axes>"
      ]
     },
     "metadata": {},
     "output_type": "display_data"
    }
   ],
   "source": [
    "\n",
    "# Example patient ID\n",
    "\n",
    "suma=0\n",
    "preds = []\n",
    "real = []\n",
    "misclass=[]\n",
    "total=0\n",
    "minim =0\n",
    "maxim = 200000\n",
    "# mean_umbral = 0\n",
    "mean_preds=np.zeros(271)\n",
    "for filename in llista:\n",
    "    preds = []\n",
    "    real = []\n",
    "    os.chdir(path_to_npz_files)\n",
    "    # Load the npz file\n",
    "    npz_filepath = os.path.join(path_to_npz_files, filename)\n",
    "    for file in os.listdir(npz_filepath):\n",
    "#         print(file)\n",
    "        data = np.load(os.path.join(npz_filepath, file))\n",
    "#         print(data['probabilities'])\n",
    "        # Extract the probabilities\n",
    "        probabilities = data['probabilities']\n",
    "#         total+=len(probabilities)\n",
    "#         if len(probabilities)>minim:\n",
    "#             minim = len(probabilities)\n",
    "#         if len(probabilities)<maxim:\n",
    "#             maxim = len(probabilities)\n",
    "\n",
    "        probabilities = probabilities\n",
    "        codi = file.split('_')[0]\n",
    "#         print(codi)\n",
    "        # Print the probabilitiesC:\\Users\\xavis\\OneDrive\\Escritorio\\Uni\\TFG\\ContrastiveHPyloriTFG\\SimCLR-master\\eval2.py\n",
    "    #     print(f'Probabilities for patient {filename[:7]}:')\n",
    "    #     print(Real_Diagnosis[Real_Diagnosis['CODI']==codi]['DENSITAT'].values[0])\n",
    "    #     print(np.mean(probabilities>0.8)>0.08)\n",
    "    #     print(np.mean(probabilities))\n",
    "#         print(probabilities)\n",
    "        preds.append((np.mean(probabilities)>mean_umbral))\n",
    "        real.append((Real_Diagnosis[Real_Diagnosis['CODI']==codi]['DENSITAT'].values[0]))\n",
    "    # print(real)\n",
    "    # print(preds)\n",
    "    mean_preds=mean_preds+preds\n",
    "    # fpr, tpr, thresholds = roc_curve(real, preds)\n",
    "    # # print(fpr)\n",
    "    # # print(tpr)\n",
    "    # auc_score = roc_auc_score(real, preds)\n",
    "\n",
    "    # # 5. Determinar el umbral óptimo\n",
    "    # # Aquí, buscamos el umbral que maximiza la diferencia (tpr - fpr), que equivale a maximizar (sensibilidad + especificidad - 1)\n",
    "    # optimal_idx = (tpr - fpr).argmax()\n",
    "    # optimal_threshold = thresholds[optimal_idx]\n",
    "    # mean_umbral+=optimal_threshold/15\n",
    "    # # Mostrar resultados\n",
    "    # print(f'AUC: {auc_score}')\n",
    "    # print(f'Umbral óptimo: {optimal_threshold}')\n",
    "#         print(real)\n",
    "#         print(preds)\n",
    "#     cm = confusion_matrix(real, preds)\n",
    "#     disp = ConfusionMatrixDisplay(confusion_matrix=cm)\n",
    "#     disp.plot()\n",
    "cm = confusion_matrix(real, ((mean_preds/15)>0.2).astype('int64'))\n",
    "disp = ConfusionMatrixDisplay(confusion_matrix=cm)\n",
    "disp.plot()\n"
   ]
  },
  {
   "cell_type": "code",
   "execution_count": null,
   "metadata": {},
   "outputs": [],
   "source": []
  },
  {
   "cell_type": "code",
   "execution_count": 57,
   "metadata": {},
   "outputs": [
    {
     "ename": "IndexError",
     "evalue": "arrays used as indices must be of integer (or boolean) type",
     "output_type": "error",
     "traceback": [
      "\u001b[1;31m---------------------------------------------------------------------------\u001b[0m",
      "\u001b[1;31mIndexError\u001b[0m                                Traceback (most recent call last)",
      "Cell \u001b[1;32mIn[57], line 28\u001b[0m\n\u001b[0;32m     21\u001b[0m         probabilities \u001b[38;5;241m=\u001b[39m data[\u001b[38;5;124m'\u001b[39m\u001b[38;5;124mprobabilities\u001b[39m\u001b[38;5;124m'\u001b[39m]\n\u001b[0;32m     22\u001b[0m \u001b[38;5;66;03m#         total+=len(probabilities)\u001b[39;00m\n\u001b[0;32m     23\u001b[0m \u001b[38;5;66;03m#         if len(probabilities)>minim:\u001b[39;00m\n\u001b[0;32m     24\u001b[0m \u001b[38;5;66;03m#             minim = len(probabilities)\u001b[39;00m\n\u001b[0;32m     25\u001b[0m \u001b[38;5;66;03m#         if len(probabilities)<maxim:\u001b[39;00m\n\u001b[0;32m     26\u001b[0m \u001b[38;5;66;03m#             maxim = len(probabilities)\u001b[39;00m\n\u001b[1;32m---> 28\u001b[0m         probabilities \u001b[38;5;241m=\u001b[39m \u001b[43mprobabilities\u001b[49m\u001b[43m[\u001b[49m\u001b[43mprobabilities\u001b[49m\u001b[43m]\u001b[49m\n\u001b[0;32m     29\u001b[0m         codi \u001b[38;5;241m=\u001b[39m file\u001b[38;5;241m.\u001b[39msplit(\u001b[38;5;124m'\u001b[39m\u001b[38;5;124m_\u001b[39m\u001b[38;5;124m'\u001b[39m)[\u001b[38;5;241m0\u001b[39m]\n\u001b[0;32m     30\u001b[0m \u001b[38;5;66;03m#         print(codi)\u001b[39;00m\n\u001b[0;32m     31\u001b[0m         \u001b[38;5;66;03m# Print the probabilitiesC:\\Users\\xavis\\OneDrive\\Escritorio\\Uni\\TFG\\ContrastiveHPyloriTFG\\SimCLR-master\\eval2.py\u001b[39;00m\n\u001b[0;32m     32\u001b[0m     \u001b[38;5;66;03m#     print(f'Probabilities for patient {filename[:7]}:')\u001b[39;00m\n\u001b[1;32m   (...)\u001b[0m\n\u001b[0;32m     35\u001b[0m     \u001b[38;5;66;03m#     print(np.mean(probabilities))\u001b[39;00m\n\u001b[0;32m     36\u001b[0m \u001b[38;5;66;03m#         print(probabilities)\u001b[39;00m\n",
      "\u001b[1;31mIndexError\u001b[0m: arrays used as indices must be of integer (or boolean) type"
     ]
    }
   ],
   "source": [
    "\n",
    "# Example patient ID\n",
    "\n",
    "suma=0\n",
    "preds = []\n",
    "real = []\n",
    "misclass=[]\n",
    "total=0\n",
    "minim =0\n",
    "maxim = 200000\n",
    "for filename in llista:\n",
    "    preds = []\n",
    "    real = []\n",
    "    os.chdir(path_to_npz_files)\n",
    "    # Load the npz file\n",
    "    npz_filepath = os.path.join(path_to_npz_files, filename)\n",
    "    for file in os.listdir(npz_filepath):\n",
    "#         print(file)\n",
    "        data = np.load(os.path.join(npz_filepath, file))\n",
    "#         print(data['probabilities'])\n",
    "        # Extract the probabilities\n",
    "        probabilities = data['probabilities']\n",
    "#         total+=len(probabilities)\n",
    "#         if len(probabilities)>minim:\n",
    "#             minim = len(probabilities)\n",
    "#         if len(probabilities)<maxim:\n",
    "#             maxim = len(probabilities)\n",
    "\n",
    "        probabilities = probabilities[probabilities]\n",
    "        codi = file.split('_')[0]\n",
    "#         print(codi)\n",
    "        # Print the probabilitiesC:\\Users\\xavis\\OneDrive\\Escritorio\\Uni\\TFG\\ContrastiveHPyloriTFG\\SimCLR-master\\eval2.py\n",
    "    #     print(f'Probabilities for patient {filename[:7]}:')\n",
    "    #     print(Real_Diagnosis[Real_Diagnosis['CODI']==codi]['DENSITAT'].values[0])\n",
    "    #     print(np.mean(probabilities>0.8)>0.08)\n",
    "    #     print(np.mean(probabilities))\n",
    "#         print(probabilities)\n",
    "        preds.append((np.mean(probabilities>0.9)))\n",
    "        real.append((Real_Diagnosis[Real_Diagnosis['CODI']==codi]['DENSITAT'].values[0]))\n",
    "    # print(real)\n",
    "    # print(preds)\n",
    "    fpr, tpr, thresholds = roc_curve(real, preds)\n",
    "    # print(fpr)\n",
    "    # print(tpr)\n",
    "    auc_score = roc_auc_score(real, preds)\n",
    "\n",
    "    # 5. Determinar el umbral óptimo\n",
    "    # Aquí, buscamos el umbral que maximiza la diferencia (tpr - fpr), que equivale a maximizar (sensibilidad + especificidad - 1)\n",
    "    optimal_idx = (tpr - fpr).argmax()\n",
    "    optimal_threshold = thresholds[optimal_idx]\n",
    "\n",
    "    # Mostrar resultados\n",
    "    print(f'AUC: {auc_score}')\n",
    "    print(f'Umbral óptimo: {optimal_threshold}')\n",
    "#         print(real)\n",
    "#         print(preds)\n",
    "#     cm = confusion_matrix(real, preds)\n",
    "#     disp = ConfusionMatrixDisplay(confusion_matrix=cm)\n",
    "#     disp.plot()\n"
   ]
  },
  {
   "cell_type": "code",
   "execution_count": 30,
   "metadata": {},
   "outputs": [
    {
     "name": "stdout",
     "output_type": "stream",
     "text": [
      "AUC: 0.9457788671023964\n",
      "Umbral óptimo: 0.06961325966850829\n",
      "AUC: 0.9491557734204793\n",
      "Umbral óptimo: 0.06948640483383686\n",
      "AUC: 0.9513344226579521\n",
      "Umbral óptimo: 0.08247422680412371\n",
      "AUC: 0.9526143790849673\n",
      "Umbral óptimo: 0.09302325581395349\n",
      "AUC: 0.9477941176470587\n",
      "Umbral óptimo: 0.07733619763694952\n",
      "AUC: 0.9510620915032679\n",
      "Umbral óptimo: 0.06633291614518148\n"
     ]
    }
   ],
   "source": [
    "\n",
    "# Example patient ID\n",
    "\n",
    "suma=0\n",
    "preds = []\n",
    "real = []\n",
    "misclass=[]\n",
    "total=0\n",
    "minim =0\n",
    "maxim = 200000\n",
    "for filename in llista:\n",
    "    preds = []\n",
    "    real = []\n",
    "    os.chdir(path_to_npz_files)\n",
    "    # Load the npz file\n",
    "    npz_filepath = os.path.join(path_to_npz_files, filename)\n",
    "    for file in os.listdir(npz_filepath):\n",
    "#         print(file)\n",
    "        data = np.load(os.path.join(npz_filepath, file))\n",
    "#         print(data['probabilities'])\n",
    "        # Extract the probabilities\n",
    "        probabilities = data['probabilities']\n",
    "#         total+=len(probabilities)\n",
    "#         if len(probabilities)>minim:\n",
    "#             minim = len(probabilities)\n",
    "#         if len(probabilities)<maxim:\n",
    "#             maxim = len(probabilities)\n",
    "\n",
    "        probabilities = probabilities[probabilities>0.03]\n",
    "        codi = file.split('_')[0]\n",
    "#         print(codi)\n",
    "        # Print the probabilitiesC:\\Users\\xavis\\OneDrive\\Escritorio\\Uni\\TFG\\ContrastiveHPyloriTFG\\SimCLR-master\\eval2.py\n",
    "    #     print(f'Probabilities for patient {filename[:7]}:')\n",
    "    #     print(Real_Diagnosis[Real_Diagnosis['CODI']==codi]['DENSITAT'].values[0])\n",
    "    #     print(np.mean(probabilities>0.8)>0.08)\n",
    "    #     print(np.mean(probabilities))\n",
    "#         print(probabilities)\n",
    "        preds.append((np.mean(probabilities>0.95)))\n",
    "        real.append((Real_Diagnosis[Real_Diagnosis['CODI']==codi]['DENSITAT'].values[0]))\n",
    "    # print(real)\n",
    "    # print(preds)\n",
    "    fpr, tpr, thresholds = roc_curve(real, preds)\n",
    "    # print(fpr)\n",
    "    # print(tpr)\n",
    "    auc_score = roc_auc_score(real, preds)\n",
    "\n",
    "    # 5. Determinar el umbral óptimo\n",
    "    # Aquí, buscamos el umbral que maximiza la diferencia (tpr - fpr), que equivale a maximizar (sensibilidad + especificidad - 1)\n",
    "    optimal_idx = (tpr - fpr).argmax()\n",
    "    optimal_threshold = thresholds[optimal_idx]\n",
    "\n",
    "    # Mostrar resultados\n",
    "    print(f'AUC: {auc_score}')\n",
    "    print(f'Umbral óptimo: {optimal_threshold}')\n",
    "#         print(real)\n",
    "#         print(preds)\n",
    "#     cm = confusion_matrix(real, preds)\n",
    "#     disp = ConfusionMatrixDisplay(confusion_matrix=cm)\n",
    "#     disp.plot()\n"
   ]
  },
  {
   "cell_type": "code",
   "execution_count": 36,
   "metadata": {},
   "outputs": [
    {
     "name": "stdout",
     "output_type": "stream",
     "text": [
      "AUC: 0.942755991285403\n",
      "Umbral óptimo: 0.06583072100313479\n",
      "AUC: 0.9427015250544664\n",
      "Umbral óptimo: 0.05791505791505792\n",
      "AUC: 0.9489106753812636\n",
      "Umbral óptimo: 0.09427609427609428\n",
      "AUC: 0.9423474945533769\n",
      "Umbral óptimo: 0.078125\n",
      "AUC: 0.9424291938997821\n",
      "Umbral óptimo: 0.10208333333333333\n",
      "AUC: 0.9413398692810457\n",
      "Umbral óptimo: 0.09547738693467336\n"
     ]
    }
   ],
   "source": [
    "\n",
    "# Example patient ID\n",
    "\n",
    "suma=0\n",
    "preds = []\n",
    "real = []\n",
    "misclass=[]\n",
    "total=0\n",
    "minim =0\n",
    "maxim = 200000\n",
    "for filename in llista:\n",
    "    preds = []\n",
    "    real = []\n",
    "    os.chdir(path_to_npz_files)\n",
    "    # Load the npz file\n",
    "    npz_filepath = os.path.join(path_to_npz_files, filename)\n",
    "    for file in os.listdir(npz_filepath):\n",
    "#         print(file)\n",
    "        data = np.load(os.path.join(npz_filepath, file))\n",
    "#         print(data['probabilities'])\n",
    "        # Extract the probabilities\n",
    "        probabilities = data['probabilities']\n",
    "#         total+=len(probabilities)\n",
    "#         if len(probabilities)>minim:\n",
    "#             minim = len(probabilities)\n",
    "#         if len(probabilities)<maxim:\n",
    "#             maxim = len(probabilities)\n",
    "\n",
    "        probabilities = probabilities[probabilities>0.05]\n",
    "        codi = file.split('_')[0]\n",
    "#         print(codi)\n",
    "        # Print the probabilitiesC:\\Users\\xavis\\OneDrive\\Escritorio\\Uni\\TFG\\ContrastiveHPyloriTFG\\SimCLR-master\\eval2.py\n",
    "    #     print(f'Probabilities for patient {filename[:7]}:')\n",
    "    #     print(Real_Diagnosis[Real_Diagnosis['CODI']==codi]['DENSITAT'].values[0])\n",
    "    #     print(np.mean(probabilities>0.8)>0.08)\n",
    "    #     print(np.mean(probabilities))\n",
    "#         print(probabilities)\n",
    "        preds.append((np.mean(probabilities>0.99)))\n",
    "        real.append((Real_Diagnosis[Real_Diagnosis['CODI']==codi]['DENSITAT'].values[0]))\n",
    "    # print(real)\n",
    "    # print(preds)\n",
    "    fpr, tpr, thresholds = roc_curve(real, preds)\n",
    "    # print(fpr)\n",
    "    # print(tpr)\n",
    "    auc_score = roc_auc_score(real, preds)\n",
    "\n",
    "    # 5. Determinar el umbral óptimo\n",
    "    # Aquí, buscamos el umbral que maximiza la diferencia (tpr - fpr), que equivale a maximizar (sensibilidad + especificidad - 1)\n",
    "    optimal_idx = (tpr - fpr).argmax()\n",
    "    optimal_threshold = thresholds[optimal_idx]\n",
    "\n",
    "    # Mostrar resultados\n",
    "    print(f'AUC: {auc_score}')\n",
    "    print(f'Umbral óptimo: {optimal_threshold}')\n",
    "#         print(real)\n",
    "#         print(preds)\n",
    "#     cm = confusion_matrix(real, preds)\n",
    "#     disp = ConfusionMatrixDisplay(confusion_matrix=cm)\n",
    "#     disp.plot()\n"
   ]
  }
 ],
 "metadata": {
  "kernelspec": {
   "display_name": "Python 3",
   "language": "python",
   "name": "python3"
  },
  "language_info": {
   "codemirror_mode": {
    "name": "ipython",
    "version": 3
   },
   "file_extension": ".py",
   "mimetype": "text/x-python",
   "name": "python",
   "nbconvert_exporter": "python",
   "pygments_lexer": "ipython3",
   "version": "3.11.8"
  }
 },
 "nbformat": 4,
 "nbformat_minor": 2
}
